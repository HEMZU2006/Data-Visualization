{
 "cells": [
  {
   "cell_type": "markdown",
   "id": "745729be-5560-4f36-bc6d-7e2d024d70d5",
   "metadata": {},
   "source": [
    "# Lab Instructions\n",
    "\n",
    "You have been hired by a record executive to design a guaranteed smash hit song based on data.  The exec has decided that if you make a song that has all the most popular features of recent songs then it will definitely be a hit.  So if - for example - the most common key in the Spotify data is C# then we would want the song we are designing to also be in C#.  If a \"typical\" value of BPM is between 120 and 130 then we would want the song we are designing to also have a tempo between 120 and 130 BMP.\n",
    "\n",
    "Visualize and describe the distribution of:\n",
    "* BPM\n",
    "* Key\n",
    "* Mode\n",
    "* Danceability\n",
    "* Energy\n",
    "* Speechiness\n",
    "* Acousticness\n",
    "\n",
    "Based on your visualizations and calculations, what values for each of these features would make a song a guaranteed smash hit?  For quantitative features, you should propose a range of values.\n",
    "\n",
    "Use a large language model to help you write code to identify if there are any songs in the Spotify dataset that meet all of the criteria we determined.  What is/are the artist(s) and title(s) of the song?  Were any of these songs actually popular?\n",
    "\n",
    "Pick a song that you know was a smash hit. How do the values of BPM, key, mode, danceability, etc. compare to other songs? \n",
    "\n",
    "**Hint:**  Import the Spotify data using `df = pd.read_csv('spotify-2023.csv', encoding='ISO-8859-1')`."
   ]
  },
  {
   "cell_type": "code",
   "execution_count": null,
   "id": "841e7228-8179-4d0e-b2fc-98a9d68b7e22",
   "metadata": {
    "tags": []
   },
   "outputs": [],
   "source": [
    "import pandas as pd\n",
    "\n",
    "df = pd.read_csv('spotify-2023.csv', encoding='ISO-8859-1')\n",
    "\n",
    "df.head()"
   ]
  },
  {
   "cell_type": "code",
   "execution_count": null,
   "id": "8711e8e8-0881-4d2a-88f9-94e2e653ad9c",
   "metadata": {},
   "outputs": [],
   "source": [
    "\n",
    "filtered_df = df [(df['bpm'] >= 120) & (df['bpm'] <= 130) & (df['mode'] == 'Minor') & (df['key'] == 'A') ]\n",
    "\n",
    "filtered_df.head()"
   ]
  },
  {
   "cell_type": "code",
   "execution_count": null,
   "id": "2d2dcac9-d8fe-4a41-ae70-43c15560db1c",
   "metadata": {},
   "outputs": [],
   "source": []
  }
 ],
 "metadata": {
  "kernelspec": {
   "display_name": "Python 3 (ipykernel)",
   "language": "python",
   "name": "python3"
  },
  "language_info": {
   "codemirror_mode": {
    "name": "ipython",
    "version": 3
   },
   "file_extension": ".py",
   "mimetype": "text/x-python",
   "name": "python",
   "nbconvert_exporter": "python",
   "pygments_lexer": "ipython3",
   "version": "3.11.4"
  }
 },
 "nbformat": 4,
 "nbformat_minor": 5
}
